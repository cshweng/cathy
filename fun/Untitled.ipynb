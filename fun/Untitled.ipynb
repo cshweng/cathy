{
 "cells": [
  {
   "cell_type": "code",
   "execution_count": 2,
   "id": "8e65e1c1-4e4c-45a5-bb59-bbdb26050bc6",
   "metadata": {},
   "outputs": [],
   "source": [
    "import numpy as np\n",
    "import matplotlib.pyplot as plt\n",
    "\n",
    "def rotation(x,y,theta):\n",
    "\txr = x*np.cos(theta)-y*np.sin(theta)\n",
    "\tyr = x*np.sin(theta)+y*np.cos(theta)\n",
    "\treturn(xr,yr)\n",
    "\n",
    "#plt.axis\n",
    "\n",
    "#.set_aspect('equal')\n",
    "x=5\n",
    "y=0\n",
    "theta=np.pi/10\n",
    "# while True:\n",
    "# \tplt.xlim(-10, 10) \n",
    "# \tplt.ylim(-10, 10)\n",
    "# \tplt.axes().set_aspect('equal')\n",
    "# \txr,yr = rotation(x,y,theta)\n",
    "# \tplt.scatter(xr,yr,c=\"b\")\n",
    "# \tx = xr\n",
    "# \ty = yr\n",
    "# \tplt.pause(0.05)\n",
    "# #plt.show()\n"
   ]
  },
  {
   "cell_type": "code",
   "execution_count": 3,
   "id": "72da4eb5-5460-44dd-97d2-333b98d3c28b",
   "metadata": {},
   "outputs": [],
   "source": [
    "t = np.linspace(-5,5,11)"
   ]
  },
  {
   "cell_type": "code",
   "execution_count": 4,
   "id": "c4599cf9-d375-40f5-9707-19e79eda6571",
   "metadata": {},
   "outputs": [
    {
     "data": {
      "text/plain": [
       "(array([-4.75528258, -3.80422607, -2.85316955, -1.90211303, -0.95105652,\n",
       "         0.        ,  0.95105652,  1.90211303,  2.85316955,  3.80422607,\n",
       "         4.75528258]),\n",
       " array([-1.54508497, -1.23606798, -0.92705098, -0.61803399, -0.30901699,\n",
       "         0.        ,  0.30901699,  0.61803399,  0.92705098,  1.23606798,\n",
       "         1.54508497]),\n",
       " 1)"
      ]
     },
     "execution_count": 19,
     "metadata": {},
     "output_type": "execute_result"
    }
   ],
   "source": [
    "rotation(t,0,np.pi/10)"
   ]
  },
  {
   "cell_type": "code",
   "execution_count": null,
   "id": "1882b51a-98b1-4da5-b054-8f96de428615",
   "metadata": {},
   "outputs": [],
   "source": [
    "def rotation(x,y,theta):\n",
    "    xr = x*np.cos(theta)-y*np.sin(theta)\n",
    "    yr = x*np.sin(theta)+y*np.cos(theta)\n",
    "    return(xr,yr)"
   ]
  },
  {
   "cell_type": "code",
   "execution_count": 5,
   "id": "5360b426-99b2-478b-ad61-1437bce55e39",
   "metadata": {},
   "outputs": [],
   "source": [
    "tx,ty = rotation(t,0,np.pi/10)"
   ]
  },
  {
   "cell_type": "code",
   "execution_count": 6,
   "id": "327ebaad-632b-406e-83e4-e6624b6236e5",
   "metadata": {},
   "outputs": [
    {
     "data": {
      "text/plain": [
       "<matplotlib.collections.PathCollection at 0x7fd408119940>"
      ]
     },
     "execution_count": 6,
     "metadata": {},
     "output_type": "execute_result"
    },
    {
     "data": {
      "image/png": "[encoded data removed]",
      "text/plain": [
       "<Figure size 640x480 with 1 Axes>"
      ]
     },
     "metadata": {},
     "output_type": "display_data"
    }
   ],
   "source": [
    "plt.scatter(tx,ty)"
   ]
  },
  {
   "cell_type": "code",
   "execution_count": 44,
   "id": "938ec894-d2a8-4eb5-a54d-65da1ea07b6f",
   "metadata": {},
   "outputs": [],
   "source": [
    "def rotation_3d(x,y,z,theta):\n",
    "    xr = x*np.cos(theta)-y*np.sin(theta)\n",
    "    yr = x*np.sin(theta)+y*np.cos(theta)\n",
    "    zr = z\n",
    "    return(xr,yr,zr)"
   ]
  },
  {
   "cell_type": "code",
   "execution_count": 45,
   "id": "dba00351-5537-47a6-8c44-95e513f445cb",
   "metadata": {},
   "outputs": [],
   "source": [
    "x=np.linspace(0,5,30)\n",
    "y=np.linspace(0,5,30)\n",
    "z=np.linspace(0,10,30)\n",
    "xt =np.meshgrid(x,y)[0]\n",
    "yt =np.meshgrid(x,y)[1]\n",
    "theta=np.pi/10"
   ]
  },
  {
   "cell_type": "code",
   "execution_count": 47,
   "id": "b73dbc79-b018-47be-9c66-f3a3e0a200ec",
   "metadata": {},
   "outputs": [],
   "source": [
    "xr,yr,zr = rotation_3d(xt,yt,z,theta)"
   ]
  },
  {
   "cell_type": "code",
   "execution_count": 48,
   "id": "5b39b3d1-18f9-4237-9ae2-14ab94fa135e",
   "metadata": {},
   "outputs": [
    {
     "data": {
      "text/plain": [
       "30"
      ]
     },
     "execution_count": 48,
     "metadata": {},
     "output_type": "execute_result"
    }
   ],
   "source": [
    "len(xr)"
   ]
  },
  {
   "cell_type": "code",
   "execution_count": 43,
   "id": "daf41f29-adc9-49c5-8ed3-554568bbe342",
   "metadata": {},
   "outputs": [],
   "source": []
  },
  {
   "cell_type": "code",
   "execution_count": 538,
   "id": "34dbf0ba-2c1a-4998-813e-e1622b68a6f8",
   "metadata": {},
   "outputs": [],
   "source": [
    "\n",
    "from colorsys import yiq_to_rgb\n",
    "from traceback import clear_frames\n",
    "import numpy as np\n",
    "import matplotlib.pyplot as plt\n",
    "\n",
    "def rotation(x,y,theta):\n",
    "\txr = x*np.cos(theta)+y*np.sin(theta)\n",
    "\tyr = -x*np.sin(theta)+y*np.cos(theta)\n",
    "\treturn(xr,yr)\n",
    "\n",
    "\n",
    "def rotation_3d(R,theta,beta,garma):\n",
    "    R = np.array(((np.cos(beta)*np.cos(garma),np.sin(theta)*np.sin(beta)*np.cos(garma)-np.cos(theta)*np.sin(garma),np.cos(theta)*np.sin(beta)*np.cos(garma)+np.sin(theta)*np.sin(garma)),\n",
    "                (np.cos(beta)*np.sin(garma),np.sin(theta)*np.sin(beta)*np.sin(garma)+np.cos(theta)*np.cos(garma),np.cos(theta)*np.sin(beta)*np.sin(garma)-np.sin(theta)*np.cos(garma)),\n",
    "                (-np.sin(beta),np.sin(theta)*np.cos(beta),np.cos(theta)*np.cos(beta))))\n",
    "\n",
    "    return(R)\n",
    "\n",
    "theta=np.pi/5\n",
    "beta = np.pi/5\n",
    "garma = np.pi/5\n",
    "\n",
    "#R = np.array(((c, -s), (s, c)))"
   ]
  },
  {
   "cell_type": "code",
   "execution_count": 539,
   "id": "5aebb34f-e2c9-4112-ae35-05a05edbed91",
   "metadata": {},
   "outputs": [],
   "source": [
    "v=np.array([[1,-1,-1, 0],\n",
    "            [1, 1,-1,-1],\n",
    "            [0, 0, 0, 0]])\n",
    "R = rotation_3d(R,theta,beta,garma)\n",
    "temp = R\n",
    "for i in range(1000):\n",
    "    temp = np.dot(temp,R)\n",
    "   # print(temp)\n",
    "    #print(np.dot(R,v))"
   ]
  },
  {
   "cell_type": "code",
   "execution_count": 547,
   "id": "bdfb9399-bcad-4e46-9dd0-f93e80a83ead",
   "metadata": {},
   "outputs": [
    {
     "data": {
      "text/plain": [
       "True"
      ]
     },
     "execution_count": 547,
     "metadata": {},
     "output_type": "execute_result"
    }
   ],
   "source": [
    "(temp[0]<0).any()"
   ]
  },
  {
   "cell_type": "code",
   "execution_count": 556,
   "id": "e13459e4-96a5-447a-be32-362cf1f8299a",
   "metadata": {},
   "outputs": [
    {
     "data": {
      "text/plain": [
       "True"
      ]
     },
     "execution_count": 556,
     "metadata": {},
     "output_type": "execute_result"
    }
   ],
   "source": [
    "(np.array([-1, -1, -1,  -1,])<0).all()==True"
   ]
  },
  {
   "cell_type": "code",
   "execution_count": 517,
   "id": "1cd9a406-8ec5-4842-b094-27d334f7da36",
   "metadata": {},
   "outputs": [
    {
     "name": "stdout",
     "output_type": "stream",
     "text": [
      "[[ 0.45848874 -0.85052826 -0.45848874  0.19601976]\n",
      " [ 1.33311157  0.38205505 -1.33311157 -0.85758331]\n",
      " [-0.11225699  1.06331351  0.11225699 -0.47552826]]\n"
     ]
    }
   ],
   "source": [
    "rot = rotation_3d(v,theta,beta,garma)\n",
    "print(rot)\n",
    "v=rot"
   ]
  },
  {
   "cell_type": "code",
   "execution_count": 515,
   "id": "e267a818-729a-48f0-9ff5-0a3fe648ddfc",
   "metadata": {},
   "outputs": [
    {
     "data": {
      "text/plain": [
       "array([[ 0.03436596, -0.58986628, -0.03436596,  0.27775016],\n",
       "       [ 1.38328316, -0.28523665, -1.38328316, -0.54902326],\n",
       "       [ 0.29096615,  1.37755367, -0.29096615, -0.83425991]])"
      ]
     },
     "execution_count": 515,
     "metadata": {},
     "output_type": "execute_result"
    }
   ],
   "source": [
    "R = np.array(((np.cos(beta)*np.cos(garma),np.sin(theta)*np.sin(beta)*np.cos(garma)-np.cos(theta)*np.sin(garma),np.cos(theta)*np.sin(beta)*np.cos(garma)-np.sin(theta)*np.sin(garma)),\n",
    "                (np.cos(beta)*np.sin(garma),np.sin(theta)*np.sin(beta)*np.sin(garma)+np.cos(theta)*np.cos(garma),np.cos(theta)*np.sin(beta)*np.sin(garma)-np.sin(theta)*np.cos(garma)),\n",
    "                (-np.sin(beta),np.sin(theta)*np.cos(beta),np.cos(theta)*np.cos(beta))))\n",
    "np.dot(np.dot(R,R),v)"
   ]
  },
  {
   "cell_type": "code",
   "execution_count": 507,
   "id": "d2cdd069-79e2-47f0-ac70-1253b55bfb96",
   "metadata": {},
   "outputs": [
    {
     "name": "stdout",
     "output_type": "stream",
     "text": [
      "[[ 0.19421131 -0.14429414 -0.19421131 -0.02495859]\n",
      " [-0.06928565  0.4971903   0.06928565 -0.21395232]\n",
      " [-0.6102669   0.04379095  0.6102669   0.28323798]]\n"
     ]
    }
   ],
   "source": [
    "\n",
    "\n",
    "for i in range(10):\n",
    "    rot = rotation_3d(v,theta,beta,garma)\n",
    "    temp =rot\n",
    "    v=rot\n",
    "print(rot)"
   ]
  },
  {
   "cell_type": "code",
   "execution_count": 460,
   "id": "f480a323-5a42-43fb-a072-8a21317e842c",
   "metadata": {},
   "outputs": [
    {
     "name": "stdout",
     "output_type": "stream",
     "text": [
      "[[ 0.         -0.07705932 -0.08516783 -0.00810851]\n",
      " [ 0.          0.21695614  0.13989682 -0.07705932]\n",
      " [ 0.          0.07652886  0.17866999  0.10214113]]\n"
     ]
    },
    {
     "data": {
      "image/png": "[encoded data removed]",
      "text/plain": [
       "<Figure size 640x480 with 1 Axes>"
      ]
     },
     "metadata": {},
     "output_type": "display_data"
    }
   ],
   "source": [
    "\n",
    "test = rotation_3d(v,theta,beta,garma)\n",
    "v =test\n",
    "print(test)\n",
    "ax = plt.axes()\n",
    "    #ax = plt.axes(projection='3d')\n",
    "ax.fill(test[0], test[1],c=\"b\")\n",
    "ax.set_xlim(-1.5,1.5)\n",
    "ax.set_ylim(-1.5,1.5)\n",
    "ax.set_aspect('equal')"
   ]
  },
  {
   "cell_type": "code",
   "execution_count": null,
   "id": "2ac716b9-152e-4d88-a385-b82206797c5b",
   "metadata": {},
   "outputs": [],
   "source": []
  },
  {
   "cell_type": "code",
   "execution_count": 275,
   "id": "b2ea820e-239b-4c7e-a0ff-4095a85fad84",
   "metadata": {},
   "outputs": [
    {
     "name": "stdout",
     "output_type": "stream",
     "text": [
      "[['#', '#'], ['#', '#']]\n"
     ]
    }
   ],
   "source": [
    "print([[\"#\",\"#\"],\n",
    " [\"#\",\"#\"]])"
   ]
  },
  {
   "cell_type": "code",
   "execution_count": 118,
   "id": "c1a93513-2628-4355-a60d-6036e3ea19bd",
   "metadata": {},
   "outputs": [
    {
     "name": "stdout",
     "output_type": "stream",
     "text": [
      "....................\n",
      "....................\n",
      "....................\n",
      "....................\n",
      "....................\n",
      "....................\n",
      "....................\n",
      "....................\n",
      "....................\n",
      "....................\n",
      "....................\n",
      "....................\n",
      "....................\n",
      "....................\n",
      "....................\n",
      "....................\n",
      "....................\n",
      "....................\n",
      "....................\n",
      "....................\n"
     ]
    }
   ],
   "source": [
    "for i in range(20):\n",
    "    print(\".\"*20)"
   ]
  },
  {
   "cell_type": "code",
   "execution_count": null,
   "id": "4cdf4268-5c29-477b-be06-c5f60f98a1d7",
   "metadata": {},
   "outputs": [],
   "source": [
    "array"
   ]
  }
 ],
 "metadata": {
  "kernelspec": {
   "display_name": "Python 3 (ipykernel)",
   "language": "python",
   "name": "python3"
  },
  "language_info": {
   "codemirror_mode": {
    "name": "ipython",
    "version": 3
   },
   "file_extension": ".py",
   "mimetype": "text/x-python",
   "name": "python",
   "nbconvert_exporter": "python",
   "pygments_lexer": "ipython3",
   "version": "3.9.12"
  }
 },
 "nbformat": 4,
 "nbformat_minor": 5
}

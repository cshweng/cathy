{
 "cells": [
  {
   "cell_type": "code",
   "execution_count": 46,
   "metadata": {
    "id": "HK76CD3T27xa"
   },
   "outputs": [],
   "source": [
    "# Import Library\n",
    "from bs4 import BeautifulSoup\n",
    "import requests\n",
    "import json\n",
    "import pandas as pd\n",
    "import re\n",
    "import ddddocr\n",
    "import datetime"
   ]
  },
  {
   "cell_type": "code",
   "execution_count": 47,
   "metadata": {
    "id": "_akI1gXM2_Ea"
   },
   "outputs": [],
   "source": [
    "# Define Parameter\n",
    "url_1 = \"https://www.ris.gov.tw/info-doorplate/app/doorplate/query\"\n",
    "url_2 = \"https://www.ris.gov.tw/info-doorplate/app/doorplate/inquiry/date\""
   ]
  },
  {
   "cell_type": "code",
   "execution_count": 48,
   "metadata": {
    "id": "SFzNIRBg3Cr5"
   },
   "outputs": [],
   "source": [
    "headers = {\n",
    "          \"User-Agent\": \"Mozilla/5.0 (Macintosh; Intel Mac OS X 10_15_7) AppleWebKit/537.36 (KHTML, like Gecko) Chrome/112.0.0.0 Safari/537.36\"\n",
    "          }\n",
    "cookies = {\"cookies\":\"JSESSIONID=AAF584AD4D880B5AD93FCE47280F01FE.sris-aw-info-doorplate-3; \\\n",
    "           _ga=GA1.3.2002745824.1682738242; \\\n",
    "           JSESSIONID=770A404C5B8691FBE9D205436D9923C5.sris-aw-root-2; \\\n",
    "           _gid=GA1.3.1716816783.1682920561\"\n",
    "           \n",
    "          }\n",
    "payloadData_map = {\n",
    "            \"cityCode\": \"68000000\",\n",
    "            \"searchType\": \"date\",\n",
    "            }"
   ]
  },
  {
   "cell_type": "code",
   "execution_count": 49,
   "metadata": {
    "id": "ciBT7-Mr3EPo"
   },
   "outputs": [],
   "source": [
    "# Start Crawler\n",
    "session = requests.Session()\n",
    "result = session.post(url=url_1, headers=headers,cookies=cookies ,data=payloadData_map)\n",
    "soup = BeautifulSoup(result.text, 'html.parser')"
   ]
  },
  {
   "cell_type": "code",
   "execution_count": 50,
   "metadata": {
    "colab": {
     "base_uri": "https://localhost:8080/"
    },
    "id": "NZNTtORL3FRV",
    "outputId": "9aa75a33-63ba-4e63-a494-58e0a0cc9174"
   },
   "outputs": [
    {
     "name": "stdout",
     "output_type": "stream",
     "text": [
      "51e1911538034da0a93f05f757eda4c8\n"
     ]
    }
   ],
   "source": [
    "# GET CAPTCHA_KEY and image\n",
    "a_tags = soup.find_all(value=re.compile(\"^[a-zA-Z0-9]{32}$\"))\n",
    "for tag in a_tags:\n",
    "    CAP = (tag.get('value'))\n",
    "print(CAP)"
   ]
  },
  {
   "cell_type": "code",
   "execution_count": 51,
   "metadata": {
    "colab": {
     "base_uri": "https://localhost:8080/"
    },
    "id": "QWRhHaIP3G9r",
    "outputId": "006d578c-2230-4d78-ed61-5adb5b1a521d"
   },
   "outputs": [
    {
     "name": "stdout",
     "output_type": "stream",
     "text": [
      "https://www.ris.gov.tw/info-doorplate/captcha/image?CAPTCHA_KEY=51e1911538034da0a93f05f757eda4c8&time=1682931576385.jpeg\n"
     ]
    }
   ],
   "source": [
    "CAP_image = f\"https://www.ris.gov.tw/info-doorplate/captcha/image?CAPTCHA_KEY={CAP}&time=1682931576385.jpeg\"\n",
    "print(CAP_image)"
   ]
  },
  {
   "cell_type": "code",
   "execution_count": 53,
   "metadata": {
    "id": "CJGV8C-t5ddi"
   },
   "outputs": [],
   "source": [
    "# download the CAPTCHA image\n",
    "img_data = requests.get(CAP_image).content\n",
    "with open('CAP_image.jpeg', 'wb') as handler:\n",
    "    handler.write(img_data)"
   ]
  },
  {
   "cell_type": "code",
   "execution_count": 54,
   "metadata": {
    "colab": {
     "base_uri": "https://localhost:8080/"
    },
    "id": "KB7CrCqe3LqK",
    "outputId": "60698d2e-f085-4252-b244-2d54d6eda344"
   },
   "outputs": [
    {
     "name": "stdout",
     "output_type": "stream",
     "text": [
      "欢迎使用ddddocr，本项目专注带动行业内卷，个人博客:wenanzhe.com\n",
      "训练数据支持来源于:http://146.56.204.113:19199/preview\n",
      "爬虫框架feapder可快速一键接入，快速开启爬虫之旅：https://github.com/Boris-code/feapder\n",
      "谷歌reCaptcha验证码 / hCaptcha验证码 / funCaptcha验证码商业级识别接口：https://yescaptcha.com/i/NSwk7i\n",
      "pa8q9\n"
     ]
    }
   ],
   "source": [
    "# CAPTCHA image Recognition\n",
    "ocr = ddddocr.DdddOcr()\n",
    "with open('CAP_image.jpeg', 'rb') as f:\n",
    "    image_bytes = f.read()\n",
    "res = ocr.classification(image_bytes)\n",
    "print(res)"
   ]
  },
  {
   "cell_type": "code",
   "execution_count": 55,
   "metadata": {
    "id": "vRrZ0PTL3Nzr"
   },
   "outputs": [],
   "source": [
    "# define payload for query\n",
    "payloadData = {\n",
    "    \"searchType\": \"date\",\n",
    "    \"cityCode\": 68000000,\n",
    "    \"tkt\": -1,\n",
    "    \"areaCode\": 68000010,\n",
    "    \"village\": \"\",\n",
    "    \"neighbor\": \"\",\n",
    "    \"sDate\": \"111-01-01\",\n",
    "    \"eDate\": str(datetime.date.today(),\n",
    "    \"_includeNoDate\": \"on\",\n",
    "    \"registerKind\": 0,\n",
    "    \"captchaInput\": res,\n",
    "    \"captchaKey\": CAP,\n",
    "    \"floor\": \"\",\n",
    "    \"lane\": \"\",\n",
    "    \"alley\": \"\",\n",
    "    \"number\": \"\",\n",
    "    \"number1\": \"\",\n",
    "    \"ext\": \"\",\n",
    "    \"_search\": \"false\",\n",
    "    \"nd\": 1682931576385,\n",
    "    \"rows\": 50000,\n",
    "    \"page\": 1,\n",
    "    \"sidx\": \"\",\n",
    "    \"sord\": \"asc\"\n",
    "     }\n",
    "result = session.post(url=url_2, headers=headers,cookies=cookies ,data=payloadData)\n",
    "# session.config['keep_alive'] = False\n",
    "soup = BeautifulSoup(result.text, 'html.parser')"
   ]
  },
  {
   "cell_type": "code",
   "execution_count": 56,
   "metadata": {
    "colab": {
     "base_uri": "https://localhost:8080/",
     "height": 419
    },
    "id": "2IQIcXzf3P7b",
    "outputId": "a3e4da11-7ab4-44bf-d988-52b844f817de"
   },
   "outputs": [
    {
     "data": {
      "text/html": [
       "\n",
       "  <div id=\"df-349b6189-9ed5-4da5-938f-4793a50f758f\">\n",
       "    <div class=\"colab-df-container\">\n",
       "      <div>\n",
       "<style scoped>\n",
       "    .dataframe tbody tr th:only-of-type {\n",
       "        vertical-align: middle;\n",
       "    }\n",
       "\n",
       "    .dataframe tbody tr th {\n",
       "        vertical-align: top;\n",
       "    }\n",
       "\n",
       "    .dataframe thead th {\n",
       "        text-align: right;\n",
       "    }\n",
       "</style>\n",
       "<table border=\"1\" class=\"dataframe\">\n",
       "  <thead>\n",
       "    <tr style=\"text-align: right;\">\n",
       "      <th></th>\n",
       "      <th>門牌資料</th>\n",
       "      <th>編釘日期</th>\n",
       "      <th>編釘類別</th>\n",
       "    </tr>\n",
       "  </thead>\n",
       "  <tbody>\n",
       "    <tr>\n",
       "      <th>0</th>\n",
       "      <td>桃園市桃園區三元里010鄰公園路５３號</td>\n",
       "      <td>民國112年4月27日</td>\n",
       "      <td>門牌廢止</td>\n",
       "    </tr>\n",
       "    <tr>\n",
       "      <th>1</th>\n",
       "      <td>桃園市桃園區三元里010鄰公園路５５號</td>\n",
       "      <td>民國112年4月27日</td>\n",
       "      <td>門牌廢止</td>\n",
       "    </tr>\n",
       "    <tr>\n",
       "      <th>2</th>\n",
       "      <td>桃園市桃園區三元里010鄰公園路５７號</td>\n",
       "      <td>民國112年4月27日</td>\n",
       "      <td>門牌廢止</td>\n",
       "    </tr>\n",
       "    <tr>\n",
       "      <th>3</th>\n",
       "      <td>桃園市桃園區三元里010鄰公園路５９號</td>\n",
       "      <td>民國112年4月27日</td>\n",
       "      <td>門牌廢止</td>\n",
       "    </tr>\n",
       "    <tr>\n",
       "      <th>4</th>\n",
       "      <td>桃園市桃園區三元里010鄰公園路６１號</td>\n",
       "      <td>民國112年4月27日</td>\n",
       "      <td>門牌廢止</td>\n",
       "    </tr>\n",
       "    <tr>\n",
       "      <th>...</th>\n",
       "      <td>...</td>\n",
       "      <td>...</td>\n",
       "      <td>...</td>\n",
       "    </tr>\n",
       "    <tr>\n",
       "      <th>22048</th>\n",
       "      <td>桃園市桃園區中正里026鄰厦門街６６號二樓</td>\n",
       "      <td>民國111年1月6日</td>\n",
       "      <td>門牌初編</td>\n",
       "    </tr>\n",
       "    <tr>\n",
       "      <th>22049</th>\n",
       "      <td>桃園市桃園區中正里026鄰厦門街６６號八樓</td>\n",
       "      <td>民國111年1月6日</td>\n",
       "      <td>門牌初編</td>\n",
       "    </tr>\n",
       "    <tr>\n",
       "      <th>22050</th>\n",
       "      <td>桃園市桃園區中正里026鄰文中東路１６５號</td>\n",
       "      <td>民國111年1月6日</td>\n",
       "      <td>門牌初編</td>\n",
       "    </tr>\n",
       "    <tr>\n",
       "      <th>22051</th>\n",
       "      <td>桃園市桃園區中正里026鄰文中東路１６９號</td>\n",
       "      <td>民國111年1月6日</td>\n",
       "      <td>門牌初編</td>\n",
       "    </tr>\n",
       "    <tr>\n",
       "      <th>22052</th>\n",
       "      <td>桃園市桃園區寶安里025鄰南平路５４０號</td>\n",
       "      <td>民國111年1月5日</td>\n",
       "      <td>門牌初編</td>\n",
       "    </tr>\n",
       "  </tbody>\n",
       "</table>\n",
       "<p>22053 rows × 3 columns</p>\n",
       "</div>\n",
       "      <button class=\"colab-df-convert\" onclick=\"convertToInteractive('df-349b6189-9ed5-4da5-938f-4793a50f758f')\"\n",
       "              title=\"Convert this dataframe to an interactive table.\"\n",
       "              style=\"display:none;\">\n",
       "        \n",
       "  <svg xmlns=\"http://www.w3.org/2000/svg\" height=\"24px\"viewBox=\"0 0 24 24\"\n",
       "       width=\"24px\">\n",
       "    <path d=\"M0 0h24v24H0V0z\" fill=\"none\"/>\n",
       "    <path d=\"M18.56 5.44l.94 2.06.94-2.06 2.06-.94-2.06-.94-.94-2.06-.94 2.06-2.06.94zm-11 1L8.5 8.5l.94-2.06 2.06-.94-2.06-.94L8.5 2.5l-.94 2.06-2.06.94zm10 10l.94 2.06.94-2.06 2.06-.94-2.06-.94-.94-2.06-.94 2.06-2.06.94z\"/><path d=\"M17.41 7.96l-1.37-1.37c-.4-.4-.92-.59-1.43-.59-.52 0-1.04.2-1.43.59L10.3 9.45l-7.72 7.72c-.78.78-.78 2.05 0 2.83L4 21.41c.39.39.9.59 1.41.59.51 0 1.02-.2 1.41-.59l7.78-7.78 2.81-2.81c.8-.78.8-2.07 0-2.86zM5.41 20L4 18.59l7.72-7.72 1.47 1.35L5.41 20z\"/>\n",
       "  </svg>\n",
       "      </button>\n",
       "      \n",
       "  <style>\n",
       "    .colab-df-container {\n",
       "      display:flex;\n",
       "      flex-wrap:wrap;\n",
       "      gap: 12px;\n",
       "    }\n",
       "\n",
       "    .colab-df-convert {\n",
       "      background-color: #E8F0FE;\n",
       "      border: none;\n",
       "      border-radius: 50%;\n",
       "      cursor: pointer;\n",
       "      display: none;\n",
       "      fill: #1967D2;\n",
       "      height: 32px;\n",
       "      padding: 0 0 0 0;\n",
       "      width: 32px;\n",
       "    }\n",
       "\n",
       "    .colab-df-convert:hover {\n",
       "      background-color: #E2EBFA;\n",
       "      box-shadow: 0px 1px 2px rgba(60, 64, 67, 0.3), 0px 1px 3px 1px rgba(60, 64, 67, 0.15);\n",
       "      fill: #174EA6;\n",
       "    }\n",
       "\n",
       "    [theme=dark] .colab-df-convert {\n",
       "      background-color: #3B4455;\n",
       "      fill: #D2E3FC;\n",
       "    }\n",
       "\n",
       "    [theme=dark] .colab-df-convert:hover {\n",
       "      background-color: #434B5C;\n",
       "      box-shadow: 0px 1px 3px 1px rgba(0, 0, 0, 0.15);\n",
       "      filter: drop-shadow(0px 1px 2px rgba(0, 0, 0, 0.3));\n",
       "      fill: #FFFFFF;\n",
       "    }\n",
       "  </style>\n",
       "\n",
       "      <script>\n",
       "        const buttonEl =\n",
       "          document.querySelector('#df-349b6189-9ed5-4da5-938f-4793a50f758f button.colab-df-convert');\n",
       "        buttonEl.style.display =\n",
       "          google.colab.kernel.accessAllowed ? 'block' : 'none';\n",
       "\n",
       "        async function convertToInteractive(key) {\n",
       "          const element = document.querySelector('#df-349b6189-9ed5-4da5-938f-4793a50f758f');\n",
       "          const dataTable =\n",
       "            await google.colab.kernel.invokeFunction('convertToInteractive',\n",
       "                                                     [key], {});\n",
       "          if (!dataTable) return;\n",
       "\n",
       "          const docLinkHtml = 'Like what you see? Visit the ' +\n",
       "            '<a target=\"_blank\" href=https://colab.research.google.com/notebooks/data_table.ipynb>data table notebook</a>'\n",
       "            + ' to learn more about interactive tables.';\n",
       "          element.innerHTML = '';\n",
       "          dataTable['output_type'] = 'display_data';\n",
       "          await google.colab.output.renderOutput(dataTable, element);\n",
       "          const docLink = document.createElement('div');\n",
       "          docLink.innerHTML = docLinkHtml;\n",
       "          element.appendChild(docLink);\n",
       "        }\n",
       "      </script>\n",
       "    </div>\n",
       "  </div>\n",
       "  "
      ],
      "text/plain": [
       "                        門牌資料         編釘日期  編釘類別\n",
       "0        桃園市桃園區三元里010鄰公園路５３號  民國112年4月27日  門牌廢止\n",
       "1        桃園市桃園區三元里010鄰公園路５５號  民國112年4月27日  門牌廢止\n",
       "2        桃園市桃園區三元里010鄰公園路５７號  民國112年4月27日  門牌廢止\n",
       "3        桃園市桃園區三元里010鄰公園路５９號  民國112年4月27日  門牌廢止\n",
       "4        桃園市桃園區三元里010鄰公園路６１號  民國112年4月27日  門牌廢止\n",
       "...                      ...          ...   ...\n",
       "22048  桃園市桃園區中正里026鄰厦門街６６號二樓   民國111年1月6日  門牌初編\n",
       "22049  桃園市桃園區中正里026鄰厦門街６６號八樓   民國111年1月6日  門牌初編\n",
       "22050  桃園市桃園區中正里026鄰文中東路１６５號   民國111年1月6日  門牌初編\n",
       "22051  桃園市桃園區中正里026鄰文中東路１６９號   民國111年1月6日  門牌初編\n",
       "22052   桃園市桃園區寶安里025鄰南平路５４０號   民國111年1月5日  門牌初編\n",
       "\n",
       "[22053 rows x 3 columns]"
      ]
     },
     "execution_count": 56,
     "metadata": {},
     "output_type": "execute_result"
    }
   ],
   "source": [
    "# Data Clearing\n",
    "Map = pd.DataFrame({ \"key\" : ['1','2','3','4','5','6','7'],\n",
    "                    \"values\" : [\"門牌初編\",\"門牌改編\",\"門牌增編\",\"門牌合併\",\"門牌廢止\",\"行政區域調整\",\"門牌整編\"]})\n",
    "df = pd.DataFrame(json.loads(result.text)[\"rows\"])\n",
    "df = df.merge(Map,how='left', left_on=\"v3\", right_on=\"key\")\n",
    "df = df.rename(columns={\"v1\":\"門牌資料\",\"v2\":\"編釘日期\",\"values\":\"編釘類別\"})[[\"門牌資料\",\"編釘日期\",\"編釘類別\"]]\n",
    "df"
   ]
  },
  {
   "cell_type": "code",
   "execution_count": 57,
   "metadata": {
    "id": "jAG8a9xB5IAF"
   },
   "outputs": [],
   "source": [
    "# Save data to csv\n",
    "df.to_csv(\"試題1_CRAWLER.csv\")"
   ]
  },
  {
   "cell_type": "code",
   "execution_count": null,
   "metadata": {
    "id": "icnN7ckY7MH2"
   },
   "outputs": [],
   "source": []
  }
 ],
 "metadata": {
  "colab": {
   "provenance": []
  },
  "kernelspec": {
   "display_name": "Python 3 (ipykernel)",
   "language": "python",
   "name": "python3"
  },
  "language_info": {
   "codemirror_mode": {
    "name": "ipython",
    "version": 3
   },
   "file_extension": ".py",
   "mimetype": "text/x-python",
   "name": "python",
   "nbconvert_exporter": "python",
   "pygments_lexer": "ipython3",
   "version": "3.11.2"
  }
 },
 "nbformat": 4,
 "nbformat_minor": 4
}

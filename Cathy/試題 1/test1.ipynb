{
 "cells": [
  {
   "cell_type": "code",
   "execution_count": 54,
   "id": "3c481280-e88e-490d-9b3f-55b436d1f5f7",
   "metadata": {
    "tags": []
   },
   "outputs": [],
   "source": [
    "from bs4 import BeautifulSoup\n",
    "import requests\n",
    "from urllib.request import urlopen as uReq"
   ]
  },
  {
   "cell_type": "code",
   "execution_count": 58,
   "id": "a0151a40-1b9e-4037-b991-9e718994e5d2",
   "metadata": {
    "tags": []
   },
   "outputs": [],
   "source": [
    "url = \"https://www.ris.gov.tw/info-doorplate/app/doorplate/main?retrievalPath=%2Fdoorplate%2F\"\n",
    "url = 'https://www.ris.gov.tw/info-doorplate/app/doorplate/map'\n",
    "url = 'https://www.ris.gov.tw/info-doorplate/app/doorplate/query'\n",
    "# url = \"https://www.ris.gov.tw/info-doorplate/captcha/image?CAPTCHA_KEY=31f442e1ca7c4410a012eb78b943b229&time=1682773707716\""
   ]
  },
  {
   "cell_type": "code",
   "execution_count": 59,
   "id": "a8f173e2-8e63-48d7-ae24-563be75500e2",
   "metadata": {
    "tags": []
   },
   "outputs": [],
   "source": [
    "uclient = uReq(url)\n",
    "page_html = uclient.read()\n",
    "uclient.close()\n",
    "page_soup = BeautifulSoup(page_html,\"html.parser\")"
   ]
  },
  {
   "cell_type": "code",
   "execution_count": 60,
   "id": "97a53c52-55c2-4d8e-a9a8-1a05b3b5cf14",
   "metadata": {
    "tags": []
   },
   "outputs": [
    {
     "data": {
      "text/plain": [
       "\n",
       "<!DOCTYPE html>\n",
       "\n",
       "<html lang=\"zh-Hant-TW\">\n",
       "<head>\n",
       "<meta content=\"width=device-width, initial-scale=1\" name=\"viewport\"/>\n",
       "<meta content=\"IE=edge\" http-equiv=\"X-UA-Compatible\"/>\n",
       "<meta charset=\"utf-8\">\n",
       "<title>村里街路門牌查詢</title>\n",
       "<meta content=\"no-cache\" http-equiv=\"Cache-Control\"/>\n",
       "<meta content=\"no-cache\" http-equiv=\"Pragma\"/>\n",
       "<meta content=\"0\" http-equiv=\"Expires\"/>\n",
       "<meta content=\"webapply\" http-equiv=\"keywords\"/>\n",
       "<meta content=\"村里街路門牌查詢\" name=\"DC.Title\"/>\n",
       "<meta content=\"內政部戶政司\" name=\"DC.Creator\"/>\n",
       "<meta content=\"內政部戶政司\" name=\"DC.Publisher\"/>\n",
       "<meta content=\"內政部戶政司\" name=\"DC.Source\"/>\n",
       "<meta content=\"text/html\" name=\"DC.Type\"/>\n",
       "<meta content=\"text/html\" name=\"DC.Format\"/>\n",
       "<meta content=\"繁體中文\" name=\"DC.Language\"/>\n",
       "<meta content=\"內政部戶政司\" name=\"DC.Rights\"/>\n",
       "<meta content=\"內政部戶政司全球資訊網\" name=\"DC.Description\"/>\n",
       "<!-- secure information for MOICA validation rule -->\n",
       "<meta content=\"normal\" name=\"app.secure\"/>\n",
       "<!-- default header name is X-CSRF-TOKEN -->\n",
       "<meta content=\"\" name=\"_csrf\"/>\n",
       "<meta content=\"\" name=\"_csrf_header\"/>\n",
       "<!-- icon & css recources -->\n",
       "<script src=\"/info-doorplate/webjars/jquery/3.5.1/jquery.min.js\" type=\"text/javascript\"></script>\n",
       "<script src=\"/info-doorplate/assets/bootstrap/js/bootstrap.min.js\" type=\"text/javascript\"></script>\n",
       "<link href=\"/info-doorplate/assets/bootstrap/css/bootstrap.min.css\" rel=\"stylesheet\" type=\"text/css\"/>\n",
       "<script src=\"/info-doorplate/assets/jquery-ui/jquery-ui.min.js\" type=\"text/javascript\"></script>\n",
       "<link href=\"/info-doorplate/assets/jquery-ui/jquery-ui.min.css\" rel=\"stylesheet\" type=\"text/css\"/>\n",
       "<script defer=\"\" src=\"/info-doorplate/webjars/github-com-macek-jquery-serialize-object/2.5.0/dist/jquery.serialize-object.min.js\" type=\"text/javascript\"></script>\n",
       "<script src=\"/info-doorplate/webjars/mobile-detect/1.3.6/mobile-detect.min.js\" type=\"text/javascript\"></script>\n",
       "<script defer=\"\" src=\"/info-doorplate/plugins/promise-polyfill/polyfill.min.js\"></script>\n",
       "<link href=\"/info-doorplate/plugins/sweetalert2/sweetalert2.min.css\" rel=\"stylesheet\" type=\"text/css\"/>\n",
       "<script defer=\"\" src=\"/info-doorplate/plugins/sweetalert2/sweetalert2.all.min.js\"></script>\n",
       "<link href=\"/info-doorplate/plugins/jquery-confirm/jquery-confirm.min.css\" rel=\"stylesheet\" type=\"text/css\"/>\n",
       "<script defer=\"\" src=\"/info-doorplate/plugins/jquery-confirm/jquery-confirm.min.js\"></script>\n",
       "<link href=\"/info-doorplate/global/images/classic/favicon.ico\" rel=\"Shortcut Icon\"/>\n",
       "<link href=\"/info-doorplate/global/css/webapply.css\" rel=\"stylesheet\" type=\"text/css\"/>\n",
       "<link href=\"/info-doorplate/global/css/aw3.form.css\" rel=\"stylesheet\" type=\"text/css\"/>\n",
       "<script src=\"/info-doorplate/global/js/aw3.polyfill.js\" type=\"text/javascript\"></script>\n",
       "<script src=\"/info-doorplate/global/js/awUtils.js\" type=\"text/javascript\"></script>\n",
       "<script src=\"/info-doorplate/global/js/errorcode.js\" type=\"text/javascript\"></script>\n",
       "<script src=\"/info-doorplate/global/js/validator.js\" type=\"text/javascript\"></script>\n",
       "<script src=\"/info-doorplate/global/js/aw3-global.Utils.js\" type=\"text/javascript\"></script>\n",
       "<script src=\"/info-doorplate/global/js/aw3.font.js\" type=\"text/javascript\"></script>\n",
       "<script src=\"/info-doorplate/webjars/owasp-esapi-js/dist/esapi.js\" type=\"text/javascript\"></script>\n",
       "<script src=\"/info-doorplate/webjars/owasp-esapi-js/dist/resources/i18n/ESAPI_Standard_en_US.properties.js\" type=\"text/javascript\"></script>\n",
       "<script src=\"/info-doorplate/webjars/owasp-esapi-js/dist/resources/Base.esapi.properties.js\" type=\"text/javascript\"></script>\n",
       "<script type=\"text/javascript\">\n",
       "$(function () {\n",
       "\torg.owasp.esapi.ESAPI.initialize();\n",
       "});\n",
       " </script>\n",
       "<!-- javeScript recources -->\n",
       "<!-- javeScript -->\n",
       "</meta></head>\n",
       "<!-- style=\"margin: .8em; padding: .8em;\" -->\n",
       "<body style=\"height: 100%\">\n",
       "<div class=\"container\" style=\"padding: 6px; min-height: 300px;\">\n",
       "<div></div>\n",
       "<div>\n",
       "<div id=\"messageTitle\" style=\"text-align: center;\">\n",
       "</div></div>\n",
       "<div>\n",
       "</div>\n",
       "<div>\n",
       "<style>\n",
       ".subtitle-header { margin: 0; display: block; padding-left: 46px; padding-top: 1.2em; background: transparent url('/info-doorplate/resources/images/doorplate/door.png') no-repeat; }\n",
       ".rotate-y { -webkit-transform: rotate(90deg); -moz-transform: rotate(90deg); -ms-transform: rotate(90deg); -o-transform: rotate(90deg); transform: rotate(90deg); }\n",
       "</style>\n",
       "<div class=\"container\">\n",
       "<div class=\"col-xs-12\">\n",
       "<div class=\"form-heading\">\n",
       "<h1>村里街路門牌查詢</h1>\n",
       "</div>\n",
       "<form action=\"/info-doorplate/app/doorplate/map\" class=\"form-horizontal\" method=\"post\">\n",
       "<div class=\"form-group-odd\">\n",
       "<div class=\"col-xs-12\">\n",
       "<div class=\"col-xs-12\">\n",
       "<div class=\"alert alert-info m-0-bottom\">\n",
       "<span class=\"glyphicon glyphicon-info-sign color-blue fs12\"></span>\n",
       "<span class=\"color-red strong\">門牌業務係屬地方自治事項權責，本網站之資料僅參考用，如有申請門牌編釘、門牌證明等需求，請逕洽該門牌地址之所在地戶政事務所</span>\n",
       "</div>\n",
       "</div>\n",
       "</div>\n",
       "<fieldset>\n",
       "<legend class=\"col-xs-12\">\n",
       "<label class=\"subtitle-header\"><span class=\"fs11\">現有村里街路門牌查詢</span></label>\n",
       "</legend>\n",
       "<div class=\"col-xs-12 m-md-top\">\n",
       "<div class=\"col-xs-12 col-sm-12 col-md-6 col-lg-6\">\n",
       "<button class=\"btn btn-info btn-block ps-classification\" data-type=\"date\" title=\"以編釘日期、編釘類別查詢\" type=\"button\">\n",
       "<div class=\"text-center fs13\"><span class=\"glyphicon glyphicon-search rotate-y\"></span></div>\n",
       "<hr class=\"m-sm-y\"/>\n",
       "<div class=\"hidden-xs p-sm-y\"></div>\n",
       "<div class=\"text-center fs13 strong\">以編釘日期、編釘類別<br class=\"hidden-lg hidden-md hidden-sm\"/>查詢</div>\n",
       "<div class=\"hidden-xs p-sm-y\"></div>\n",
       "</button>\n",
       "</div>\n",
       "<div class=\"col-xs-12 col-sm-12 hidden-md hidden-lg p-md-y\"></div>\n",
       "<div class=\"col-xs-12 col-sm-12 col-md-6 col-lg-6\">\n",
       "<button class=\"btn btn-info text-center btn-block ps-classification\" data-type=\"doorplate\" title=\"以部分街路門牌查詢\" type=\"button\">\n",
       "<div class=\"text-center fs13\"><span class=\"glyphicon glyphicon-search rotate-y\"></span></div>\n",
       "<hr class=\"m-sm-y\"/>\n",
       "<div class=\"hidden-xs p-sm-y\"></div>\n",
       "<div class=\"text-center fs13 strong\">以部分街路門牌查詢</div>\n",
       "<div class=\"hidden-xs p-sm-y\"></div>\n",
       "</button>\n",
       "</div>\n",
       "</div>\n",
       "</fieldset>\n",
       "</div>\n",
       "<div class=\"form-group-even\">\n",
       "<fieldset>\n",
       "<legend class=\"col-xs-12\">\n",
       "<label class=\"subtitle-header\"><span class=\"fs11\">村里街路門牌異動查詢<br class=\"hidden-sm hidden-md hidden-lg\"/>（資料起始日期：87年8月1日）</span></label>\n",
       "</legend>\n",
       "<div class=\"col-xs-12 m-md-top\">\n",
       "<div class=\"col-xs-12 col-sm-12 col-md-6 col-lg-6\">\n",
       "<button class=\"btn btn-info btn-block ps-classification\" data-type=\"village\" title=\"以鄉鎮市區、編釘類別查詢\" type=\"button\">\n",
       "<div class=\"text-center fs13\"><span class=\"glyphicon glyphicon-search rotate-y\"></span></div>\n",
       "<hr class=\"m-sm-y\"/>\n",
       "<div class=\"hidden-xs p-sm-y\"></div>\n",
       "<div class=\"text-center fs13 strong\">以鄉鎮市區、編釘類別<br class=\"hidden-lg hidden-md hidden-sm\"/>查詢</div>\n",
       "<div class=\"hidden-xs p-sm-y\"></div>\n",
       "</button>\n",
       "</div>\n",
       "<div class=\"col-xs-12 col-sm-12 hidden-md hidden-lg p-md-y\"></div>\n",
       "<div class=\"col-xs-12 col-sm-12 col-md-6 col-lg-6\">\n",
       "<button class=\"btn btn-info btn-block ps-classification\" data-type=\"change\" title=\"以變更門牌查詢\" type=\"button\">\n",
       "<div class=\"text-center fs13\"><span class=\"glyphicon glyphicon-search rotate-y\"></span></div>\n",
       "<hr class=\"m-sm-y\"/>\n",
       "<div class=\"hidden-xs p-sm-y\"></div>\n",
       "<div class=\"text-center fs13 strong\">以變更門牌查詢</div>\n",
       "<div class=\"hidden-xs p-sm-y\"></div>\n",
       "</button>\n",
       "</div>\n",
       "</div>\n",
       "</fieldset>\n",
       "</div>\n",
       "</form>\n",
       "</div>\n",
       "<script>\n",
       "\t$(function(){\n",
       "\t\tvar c=window.BROWSER&&window.BROWSER.device&&!window.BROWSER.device.mobile?{'text-align':'left'}:{};\n",
       "\t\tvar btns=$(\"button.ps-classification\"),form=$(btns[0]).closest(\"form\");btns.css(c).on(\"click\",function(){var t=$(this).attr(\"data-type\");t&&(btns.prop(\"disabled\",!0),t=String.format('<input type=\"hidden\" name=\"searchType\" value=\"{0}\" />',t),form.append(t).submit())});\n",
       "\t});\n",
       "\t</script>\n",
       "</div>\n",
       "</div>\n",
       "<div></div>\n",
       "</div>\n",
       "<script async=\"\" src=\"https://www.googletagmanager.com/gtag/js?id=UA-28221981-1\"></script>\n",
       "<script>\n",
       "\t  window.dataLayer = window.dataLayer || [];\n",
       "\t  function gtag(){dataLayer.push(arguments);}\n",
       "\t  gtag('js', new Date());\n",
       "\n",
       "\t  gtag('config', 'UA-28221981-1');\n",
       "\t</script>\n",
       "</body>\n",
       "</html>"
      ]
     },
     "execution_count": 60,
     "metadata": {},
     "output_type": "execute_result"
    }
   ],
   "source": [
    "page_soup"
   ]
  },
  {
   "cell_type": "code",
   "execution_count": 32,
   "id": "e7e40ffc-cefd-4cd2-8448-5a09864200fb",
   "metadata": {
    "tags": []
   },
   "outputs": [],
   "source": [
    "r = requests.get(url)"
   ]
  },
  {
   "cell_type": "code",
   "execution_count": 33,
   "id": "86e5a886-eff7-4e99-a6a0-f6756a7796df",
   "metadata": {
    "tags": []
   },
   "outputs": [
    {
     "data": {
      "text/plain": [
       "<Response [200]>"
      ]
     },
     "execution_count": 33,
     "metadata": {},
     "output_type": "execute_result"
    }
   ],
   "source": [
    "r"
   ]
  },
  {
   "cell_type": "code",
   "execution_count": 34,
   "id": "8cdbde39-f65f-44ae-a1c0-86c935c761ec",
   "metadata": {
    "tags": []
   },
   "outputs": [
    {
     "ename": "KeyError",
     "evalue": "'content-type'",
     "output_type": "error",
     "traceback": [
      "\u001b[0;31m---------------------------------------------------------------------------\u001b[0m",
      "\u001b[0;31mKeyError\u001b[0m                                  Traceback (most recent call last)",
      "Cell \u001b[0;32mIn[34], line 1\u001b[0m\n\u001b[0;32m----> 1\u001b[0m \u001b[43mr\u001b[49m\u001b[38;5;241;43m.\u001b[39;49m\u001b[43mheaders\u001b[49m\u001b[43m[\u001b[49m\u001b[38;5;124;43m'\u001b[39;49m\u001b[38;5;124;43mcontent-type\u001b[39;49m\u001b[38;5;124;43m'\u001b[39;49m\u001b[43m]\u001b[49m\n",
      "File \u001b[0;32m/opt/homebrew/lib/python3.11/site-packages/requests/structures.py:52\u001b[0m, in \u001b[0;36mCaseInsensitiveDict.__getitem__\u001b[0;34m(self, key)\u001b[0m\n\u001b[1;32m     51\u001b[0m \u001b[38;5;28;01mdef\u001b[39;00m \u001b[38;5;21m__getitem__\u001b[39m(\u001b[38;5;28mself\u001b[39m, key):\n\u001b[0;32m---> 52\u001b[0m     \u001b[38;5;28;01mreturn\u001b[39;00m \u001b[38;5;28;43mself\u001b[39;49m\u001b[38;5;241;43m.\u001b[39;49m\u001b[43m_store\u001b[49m\u001b[43m[\u001b[49m\u001b[43mkey\u001b[49m\u001b[38;5;241;43m.\u001b[39;49m\u001b[43mlower\u001b[49m\u001b[43m(\u001b[49m\u001b[43m)\u001b[49m\u001b[43m]\u001b[49m[\u001b[38;5;241m1\u001b[39m]\n",
      "\u001b[0;31mKeyError\u001b[0m: 'content-type'"
     ]
    }
   ],
   "source": [
    "r.headers['content-type']"
   ]
  },
  {
   "cell_type": "code",
   "execution_count": 35,
   "id": "f8cd0c24-dc5a-492a-a662-fdf7e7c2099d",
   "metadata": {
    "tags": []
   },
   "outputs": [
    {
     "data": {
      "text/plain": [
       "{'Server': 'nginx', 'Date': 'Sat, 29 Apr 2023 13:10:55 GMT', 'Content-Length': '0', 'Connection': 'keep-alive', 'Cache-Control': 'private', 'X-FRAME-OPTIONS': 'SAMEORIGIN', 'X-Content-Type-Options': 'nosniff', 'X-XSS-Protection': '1; mode=block', 'Strict-Transport-Security': 'max-age=31536000; includeSubDomains', 'Referrer-Policy': 'strict-origin-when-cross-origin', 'Content-Security-Policy': \"default-src 'self' 'unsafe-inline' 'unsafe-eval' *.gov.tw *.tgos.tw *.google.com *.google.com.tw fonts.googleapis.com fonts.gstatic.com *.facebook.com *.youtube.com www.google-analytics.com www.googletagmanager.com stats.g.doubleclick.net http://localhost:61161 data: ;\"}"
      ]
     },
     "execution_count": 35,
     "metadata": {},
     "output_type": "execute_result"
    }
   ],
   "source": [
    "r.headers"
   ]
  },
  {
   "cell_type": "code",
   "execution_count": 36,
   "id": "e5654d57-9096-4e09-835a-17d4179a82aa",
   "metadata": {
    "tags": []
   },
   "outputs": [
    {
     "data": {
      "text/plain": [
       "''"
      ]
     },
     "execution_count": 36,
     "metadata": {},
     "output_type": "execute_result"
    }
   ],
   "source": [
    "r.text\n"
   ]
  },
  {
   "cell_type": "code",
   "execution_count": null,
   "id": "a71c9f35-0449-46a7-8c71-deae680b24a9",
   "metadata": {},
   "outputs": [],
   "source": []
  }
 ],
 "metadata": {
  "kernelspec": {
   "display_name": "Python 3 (ipykernel)",
   "language": "python",
   "name": "python3"
  },
  "language_info": {
   "codemirror_mode": {
    "name": "ipython",
    "version": 3
   },
   "file_extension": ".py",
   "mimetype": "text/x-python",
   "name": "python",
   "nbconvert_exporter": "python",
   "pygments_lexer": "ipython3",
   "version": "3.11.2"
  }
 },
 "nbformat": 4,
 "nbformat_minor": 5
}

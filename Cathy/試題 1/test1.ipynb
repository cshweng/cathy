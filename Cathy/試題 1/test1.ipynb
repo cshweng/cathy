{
 "cells": [
  {
   "cell_type": "code",
   "execution_count": 1,
   "id": "3c481280-e88e-490d-9b3f-55b436d1f5f7",
   "metadata": {
    "tags": []
   },
   "outputs": [],
   "source": [
    "from bs4 import BeautifulSoup\n",
    "import requests\n",
    "from urllib.request import urlopen as uReq\n",
    "import json\n",
    "import pandas as pd"
   ]
  },
  {
   "cell_type": "code",
   "execution_count": 2,
   "id": "a0151a40-1b9e-4037-b991-9e718994e5d2",
   "metadata": {
    "tags": []
   },
   "outputs": [],
   "source": [
    "url_1 = \"https://www.ris.gov.tw/info-doorplate/app/doorplate/query\"\n",
    "url_2 = \"https://www.ris.gov.tw/info-doorplate/app/doorplate/inquiry/date\""
   ]
  },
  {
   "cell_type": "code",
   "execution_count": 3,
   "id": "a0274353-9318-4c53-a499-b0a7bf062443",
   "metadata": {
    "tags": []
   },
   "outputs": [],
   "source": [
    "headers = {\n",
    "          \"User-Agent\": \"Mozilla/5.0 (Macintosh; Intel Mac OS X 10_15_7) AppleWebKit/537.36 (KHTML, like Gecko) Chrome/112.0.0.0 Safari/537.36\"\n",
    "          }\n",
    "cookies = {\"cookies\":\"JSESSIONID=AAF584AD4D880B5AD93FCE47280F01FE.sris-aw-info-doorplate-3; \\\n",
    "           _ga=GA1.3.2002745824.1682738242; \\\n",
    "           JSESSIONID=770A404C5B8691FBE9D205436D9923C5.sris-aw-root-2; \\\n",
    "           _gid=GA1.3.1716816783.1682920561\"\n",
    "           \n",
    "          }\n",
    "payloadData_map = {\n",
    "            \"cityCode\": \"68000000\",\n",
    "            \"searchType\": \"date\",\n",
    "            }"
   ]
  },
  {
   "cell_type": "code",
   "execution_count": 4,
   "id": "946c1044-7637-4fc2-90aa-f09f97256e30",
   "metadata": {
    "tags": []
   },
   "outputs": [],
   "source": [
    "session = requests.Session()\n",
    "result = session.post(url=url_1, headers=headers,cookies=cookies ,data=payloadData_map)\n",
    "soup = BeautifulSoup(result.text, 'html.parser')"
   ]
  },
  {
   "cell_type": "code",
   "execution_count": 5,
   "id": "b9702cb1-03da-4823-af8d-15d9b39e63c5",
   "metadata": {
    "tags": []
   },
   "outputs": [
    {
     "name": "stdout",
     "output_type": "stream",
     "text": [
      "22e466e103cf4e83bf96af1d76ee559c\n"
     ]
    }
   ],
   "source": [
    "import re\n",
    "a_tags = soup.find_all(value=re.compile(\"^[a-zA-Z0-9]{32}$\"))\n",
    "for tag in a_tags:\n",
    "    CAP = (tag.get('value'))\n",
    "print(CAP)"
   ]
  },
  {
   "cell_type": "code",
   "execution_count": 6,
   "id": "260078d3-2912-4196-8114-6f1ba576e466",
   "metadata": {
    "tags": []
   },
   "outputs": [],
   "source": [
    "  \n",
    "# current_time = datetime.datetime.now()\n",
    "# time_stamp = current_time.timestamp()\n",
    "# print(time_stamp*1000)"
   ]
  },
  {
   "cell_type": "code",
   "execution_count": 7,
   "id": "5e84ae20-1c7a-4815-8e2a-fc0a0b292b17",
   "metadata": {},
   "outputs": [
    {
     "name": "stdout",
     "output_type": "stream",
     "text": [
      "https://www.ris.gov.tw/info-doorplate/captcha/image?CAPTCHA_KEY=22e466e103cf4e83bf96af1d76ee559c&time=1682931576385\n"
     ]
    }
   ],
   "source": [
    "CAP_image = f\"https://www.ris.gov.tw/info-doorplate/captcha/image?CAPTCHA_KEY={CAP}&time=1682931576385\"\n",
    "print(CAP_image)"
   ]
  },
  {
   "cell_type": "code",
   "execution_count": 19,
   "id": "9006cdc9-c636-48a3-8e92-efa71f878cfa",
   "metadata": {
    "tags": []
   },
   "outputs": [
    {
     "ename": "ModuleNotFoundError",
     "evalue": "No module named 'onnxruntime'",
     "output_type": "error",
     "traceback": [
      "\u001b[0;31m---------------------------------------------------------------------------\u001b[0m",
      "\u001b[0;31mModuleNotFoundError\u001b[0m                       Traceback (most recent call last)",
      "Cell \u001b[0;32mIn[19], line 1\u001b[0m\n\u001b[0;32m----> 1\u001b[0m \u001b[38;5;28;01mimport\u001b[39;00m \u001b[38;5;21;01mddddocr\u001b[39;00m\n",
      "File \u001b[0;32m/opt/homebrew/lib/python3.11/site-packages/ddddocr/__init__.py:7\u001b[0m\n\u001b[1;32m      5\u001b[0m \u001b[38;5;28;01mimport\u001b[39;00m \u001b[38;5;21;01mio\u001b[39;00m\n\u001b[1;32m      6\u001b[0m \u001b[38;5;28;01mimport\u001b[39;00m \u001b[38;5;21;01mos\u001b[39;00m\n\u001b[0;32m----> 7\u001b[0m \u001b[38;5;28;01mimport\u001b[39;00m \u001b[38;5;21;01monnxruntime\u001b[39;00m\n\u001b[1;32m      8\u001b[0m \u001b[38;5;28;01mfrom\u001b[39;00m \u001b[38;5;21;01mPIL\u001b[39;00m \u001b[38;5;28;01mimport\u001b[39;00m Image\n\u001b[1;32m      9\u001b[0m \u001b[38;5;28;01mimport\u001b[39;00m \u001b[38;5;21;01mnumpy\u001b[39;00m \u001b[38;5;28;01mas\u001b[39;00m \u001b[38;5;21;01mnp\u001b[39;00m\n",
      "\u001b[0;31mModuleNotFoundError\u001b[0m: No module named 'onnxruntime'"
     ]
    }
   ],
   "source": [
    "import ddddocr"
   ]
  },
  {
   "cell_type": "code",
   "execution_count": 23,
   "id": "e122f982-4617-42b3-9d87-2fc47672a1b2",
   "metadata": {
    "tags": []
   },
   "outputs": [
    {
     "name": "stdout",
     "output_type": "stream",
     "text": [
      "\u001b[31mERROR: Could not find a version that satisfies the requirement onnxruntime (from versions: none)\u001b[0m\u001b[31m\n",
      "\u001b[0m\u001b[31mERROR: No matching distribution found for onnxruntime\u001b[0m\u001b[31m\n",
      "\u001b[0m\n",
      "\u001b[1m[\u001b[0m\u001b[34;49mnotice\u001b[0m\u001b[1;39;49m]\u001b[0m\u001b[39;49m A new release of pip is available: \u001b[0m\u001b[31;49m23.0.1\u001b[0m\u001b[39;49m -> \u001b[0m\u001b[32;49m23.1.2\u001b[0m\n",
      "\u001b[1m[\u001b[0m\u001b[34;49mnotice\u001b[0m\u001b[1;39;49m]\u001b[0m\u001b[39;49m To update, run: \u001b[0m\u001b[32;49mpython3.11 -m pip install --upgrade pip\u001b[0m\n"
     ]
    }
   ],
   "source": [
    "!pip install --force-reinstall onnxruntime\n"
   ]
  },
  {
   "cell_type": "code",
   "execution_count": 10,
   "id": "44a6a92f-1c72-4115-abf8-c0ebfe36255d",
   "metadata": {
    "tags": []
   },
   "outputs": [],
   "source": [
    "payloadData = {\n",
    "    \"searchType\": \"date\",\n",
    "    \"cityCode\": 68000000,\n",
    "    \"tkt\": -1,\n",
    "    \"areaCode\": 68000010,\n",
    "    \"village\": \"\",\n",
    "    \"neighbor\": \"\",\n",
    "    \"sDate\": \"111-01-01\",\n",
    "    \"eDate\": \"112-06-01\",\n",
    "    \"_includeNoDate\": \"on\",\n",
    "    \"registerKind\": 0,\n",
    "    \"captchaInput\": \"9UN42\",\n",
    "    \"captchaKey\": CAP,\n",
    "    \"floor\": \"\",\n",
    "    \"lane\": \"\",\n",
    "    \"alley\": \"\",\n",
    "    \"number\": \"\",\n",
    "    \"number1\": \"\",\n",
    "    \"ext\": \"\",\n",
    "    \"_search\": \"false\",\n",
    "    \"nd\": 1682931576385,\n",
    "    \"rows\": 50000,\n",
    "    \"page\": 1,\n",
    "    \"sidx\": \"\",\n",
    "    \"sord\": \"asc\"\n",
    "     }\n",
    "result = session.post(url=url_2, headers=headers,cookies=cookies ,data=payloadData)\n",
    "# session.config['keep_alive'] = False\n",
    "soup = BeautifulSoup(result.text, 'html.parser')"
   ]
  },
  {
   "cell_type": "code",
   "execution_count": null,
   "id": "ec3690db-870a-41c6-b11e-7142cf7acdcf",
   "metadata": {
    "tags": []
   },
   "outputs": [],
   "source": []
  },
  {
   "cell_type": "code",
   "execution_count": 11,
   "id": "e5654d57-9096-4e09-835a-17d4179a82aa",
   "metadata": {
    "tags": []
   },
   "outputs": [
    {
     "data": {
      "text/html": [
       "<div>\n",
       "<style scoped>\n",
       "    .dataframe tbody tr th:only-of-type {\n",
       "        vertical-align: middle;\n",
       "    }\n",
       "\n",
       "    .dataframe tbody tr th {\n",
       "        vertical-align: top;\n",
       "    }\n",
       "\n",
       "    .dataframe thead th {\n",
       "        text-align: right;\n",
       "    }\n",
       "</style>\n",
       "<table border=\"1\" class=\"dataframe\">\n",
       "  <thead>\n",
       "    <tr style=\"text-align: right;\">\n",
       "      <th></th>\n",
       "      <th>門牌資料</th>\n",
       "      <th>編釘日期</th>\n",
       "      <th>編釘類別</th>\n",
       "    </tr>\n",
       "  </thead>\n",
       "  <tbody>\n",
       "    <tr>\n",
       "      <th>0</th>\n",
       "      <td>桃園市桃園區三元里010鄰公園路５３號</td>\n",
       "      <td>民國112年4月27日</td>\n",
       "      <td>門牌廢止</td>\n",
       "    </tr>\n",
       "    <tr>\n",
       "      <th>1</th>\n",
       "      <td>桃園市桃園區三元里010鄰公園路５５號</td>\n",
       "      <td>民國112年4月27日</td>\n",
       "      <td>門牌廢止</td>\n",
       "    </tr>\n",
       "    <tr>\n",
       "      <th>2</th>\n",
       "      <td>桃園市桃園區三元里010鄰公園路５７號</td>\n",
       "      <td>民國112年4月27日</td>\n",
       "      <td>門牌廢止</td>\n",
       "    </tr>\n",
       "    <tr>\n",
       "      <th>3</th>\n",
       "      <td>桃園市桃園區三元里010鄰公園路５９號</td>\n",
       "      <td>民國112年4月27日</td>\n",
       "      <td>門牌廢止</td>\n",
       "    </tr>\n",
       "    <tr>\n",
       "      <th>4</th>\n",
       "      <td>桃園市桃園區三元里010鄰公園路６１號</td>\n",
       "      <td>民國112年4月27日</td>\n",
       "      <td>門牌廢止</td>\n",
       "    </tr>\n",
       "    <tr>\n",
       "      <th>...</th>\n",
       "      <td>...</td>\n",
       "      <td>...</td>\n",
       "      <td>...</td>\n",
       "    </tr>\n",
       "    <tr>\n",
       "      <th>22048</th>\n",
       "      <td>桃園市桃園區中正里026鄰文中東路１６９號</td>\n",
       "      <td>民國111年1月6日</td>\n",
       "      <td>門牌初編</td>\n",
       "    </tr>\n",
       "    <tr>\n",
       "      <th>22049</th>\n",
       "      <td>桃園市桃園區中正里026鄰厦門街６２號</td>\n",
       "      <td>民國111年1月6日</td>\n",
       "      <td>門牌初編</td>\n",
       "    </tr>\n",
       "    <tr>\n",
       "      <th>22050</th>\n",
       "      <td>桃園市桃園區中正里026鄰厦門街６６號二樓</td>\n",
       "      <td>民國111年1月6日</td>\n",
       "      <td>門牌初編</td>\n",
       "    </tr>\n",
       "    <tr>\n",
       "      <th>22051</th>\n",
       "      <td>桃園市桃園區中正里026鄰厦門街６６號八樓</td>\n",
       "      <td>民國111年1月6日</td>\n",
       "      <td>門牌初編</td>\n",
       "    </tr>\n",
       "    <tr>\n",
       "      <th>22052</th>\n",
       "      <td>桃園市桃園區寶安里025鄰南平路５４０號</td>\n",
       "      <td>民國111年1月5日</td>\n",
       "      <td>門牌初編</td>\n",
       "    </tr>\n",
       "  </tbody>\n",
       "</table>\n",
       "<p>22053 rows × 3 columns</p>\n",
       "</div>"
      ],
      "text/plain": [
       "                        門牌資料         編釘日期  編釘類別\n",
       "0        桃園市桃園區三元里010鄰公園路５３號  民國112年4月27日  門牌廢止\n",
       "1        桃園市桃園區三元里010鄰公園路５５號  民國112年4月27日  門牌廢止\n",
       "2        桃園市桃園區三元里010鄰公園路５７號  民國112年4月27日  門牌廢止\n",
       "3        桃園市桃園區三元里010鄰公園路５９號  民國112年4月27日  門牌廢止\n",
       "4        桃園市桃園區三元里010鄰公園路６１號  民國112年4月27日  門牌廢止\n",
       "...                      ...          ...   ...\n",
       "22048  桃園市桃園區中正里026鄰文中東路１６９號   民國111年1月6日  門牌初編\n",
       "22049    桃園市桃園區中正里026鄰厦門街６２號   民國111年1月6日  門牌初編\n",
       "22050  桃園市桃園區中正里026鄰厦門街６６號二樓   民國111年1月6日  門牌初編\n",
       "22051  桃園市桃園區中正里026鄰厦門街６６號八樓   民國111年1月6日  門牌初編\n",
       "22052   桃園市桃園區寶安里025鄰南平路５４０號   民國111年1月5日  門牌初編\n",
       "\n",
       "[22053 rows x 3 columns]"
      ]
     },
     "execution_count": 11,
     "metadata": {},
     "output_type": "execute_result"
    }
   ],
   "source": [
    "Map = pd.DataFrame({ \"key\" : ['1','2','3','4','5','6','7'],\n",
    "                    \"values\" : [\"門牌初編\",\"門牌改編\",\"門牌增編\",\"門牌合併\",\"門牌廢止\",\"行政區域調整\",\"門牌整編\"]})\n",
    "df = pd.DataFrame(json.loads(result.text)[\"rows\"])\n",
    "df = df.merge(Map,how='left', left_on=\"v3\", right_on=\"key\")\n",
    "df = df.rename(columns={\"v1\":\"門牌資料\",\"v2\":\"編釘日期\",\"values\":\"編釘類別\"})[[\"門牌資料\",\"編釘日期\",\"編釘類別\"]]\n",
    "df"
   ]
  },
  {
   "cell_type": "code",
   "execution_count": null,
   "id": "6c531e69-4e74-47af-8628-823294d5fef9",
   "metadata": {},
   "outputs": [],
   "source": []
  }
 ],
 "metadata": {
  "kernelspec": {
   "display_name": "Python 3 (ipykernel)",
   "language": "python",
   "name": "python3"
  },
  "language_info": {
   "codemirror_mode": {
    "name": "ipython",
    "version": 3
   },
   "file_extension": ".py",
   "mimetype": "text/x-python",
   "name": "python",
   "nbconvert_exporter": "python",
   "pygments_lexer": "ipython3",
   "version": "3.11.2"
  }
 },
 "nbformat": 4,
 "nbformat_minor": 5
}
